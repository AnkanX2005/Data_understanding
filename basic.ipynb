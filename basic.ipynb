{
 "cells": [
  {
   "cell_type": "markdown",
   "id": "d8665b43",
   "metadata": {},
   "source": [
    "# Understanding your data\n",
    "## Asking basic questions"
   ]
  },
  {
   "cell_type": "code",
   "execution_count": 1,
   "id": "9cd3f640",
   "metadata": {},
   "outputs": [],
   "source": [
    "import pandas as pd"
   ]
  },
  {
   "cell_type": "code",
   "execution_count": 3,
   "id": "b5d21f06",
   "metadata": {},
   "outputs": [],
   "source": [
    "df = pd.read_csv(\"C:\\\\ML\\\\used_cars_dataset.csv\")"
   ]
  },
  {
   "cell_type": "markdown",
   "id": "2b228fbd",
   "metadata": {},
   "source": [
    "1. How big is the data?"
   ]
  },
  {
   "cell_type": "code",
   "execution_count": 5,
   "id": "f270e06c",
   "metadata": {},
   "outputs": [
    {
     "data": {
      "text/plain": [
       "(4340, 8)"
      ]
     },
     "execution_count": 5,
     "metadata": {},
     "output_type": "execute_result"
    }
   ],
   "source": [
    "df.shape"
   ]
  },
  {
   "cell_type": "markdown",
   "id": "92750272",
   "metadata": {},
   "source": [
    "2. How does the data look like?"
   ]
  },
  {
   "cell_type": "code",
   "execution_count": 7,
   "id": "066b27c9",
   "metadata": {},
   "outputs": [
    {
     "data": {
      "application/vnd.microsoft.datawrangler.viewer.v0+json": {
       "columns": [
        {
         "name": "index",
         "rawType": "int64",
         "type": "integer"
        },
        {
         "name": "name",
         "rawType": "object",
         "type": "string"
        },
        {
         "name": "year",
         "rawType": "int64",
         "type": "integer"
        },
        {
         "name": "km_driven",
         "rawType": "int64",
         "type": "integer"
        },
        {
         "name": "fuel",
         "rawType": "object",
         "type": "string"
        },
        {
         "name": "seller_type",
         "rawType": "object",
         "type": "string"
        },
        {
         "name": "transmission",
         "rawType": "object",
         "type": "string"
        },
        {
         "name": "owner",
         "rawType": "object",
         "type": "string"
        },
        {
         "name": "selling_price",
         "rawType": "int64",
         "type": "integer"
        }
       ],
       "ref": "dbdf899e-fef1-4c92-add2-3e28e3cc72e9",
       "rows": [
        [
         "2949",
         "Hyundai i10 Sportz 1.2 AT",
         "2013",
         "38000",
         "Petrol",
         "Dealer",
         "Automatic",
         "First Owner",
         "330000"
        ],
        [
         "852",
         "Tata Hexa XTA",
         "2017",
         "50000",
         "Diesel",
         "Individual",
         "Automatic",
         "First Owner",
         "1200000"
        ],
        [
         "2162",
         "Hyundai i20 1.2 Sportz",
         "2012",
         "90000",
         "Petrol",
         "Individual",
         "Manual",
         "Third Owner",
         "330000"
        ],
        [
         "2299",
         "Toyota Camry Hybrid 2.5",
         "2017",
         "20118",
         "Petrol",
         "Dealer",
         "Automatic",
         "First Owner",
         "1900000"
        ],
        [
         "107",
         "Hyundai Sonata CRDi M/T",
         "2010",
         "100000",
         "Diesel",
         "Individual",
         "Manual",
         "First Owner",
         "600000"
        ]
       ],
       "shape": {
        "columns": 8,
        "rows": 5
       }
      },
      "text/html": [
       "<div>\n",
       "<style scoped>\n",
       "    .dataframe tbody tr th:only-of-type {\n",
       "        vertical-align: middle;\n",
       "    }\n",
       "\n",
       "    .dataframe tbody tr th {\n",
       "        vertical-align: top;\n",
       "    }\n",
       "\n",
       "    .dataframe thead th {\n",
       "        text-align: right;\n",
       "    }\n",
       "</style>\n",
       "<table border=\"1\" class=\"dataframe\">\n",
       "  <thead>\n",
       "    <tr style=\"text-align: right;\">\n",
       "      <th></th>\n",
       "      <th>name</th>\n",
       "      <th>year</th>\n",
       "      <th>km_driven</th>\n",
       "      <th>fuel</th>\n",
       "      <th>seller_type</th>\n",
       "      <th>transmission</th>\n",
       "      <th>owner</th>\n",
       "      <th>selling_price</th>\n",
       "    </tr>\n",
       "  </thead>\n",
       "  <tbody>\n",
       "    <tr>\n",
       "      <th>2949</th>\n",
       "      <td>Hyundai i10 Sportz 1.2 AT</td>\n",
       "      <td>2013</td>\n",
       "      <td>38000</td>\n",
       "      <td>Petrol</td>\n",
       "      <td>Dealer</td>\n",
       "      <td>Automatic</td>\n",
       "      <td>First Owner</td>\n",
       "      <td>330000</td>\n",
       "    </tr>\n",
       "    <tr>\n",
       "      <th>852</th>\n",
       "      <td>Tata Hexa XTA</td>\n",
       "      <td>2017</td>\n",
       "      <td>50000</td>\n",
       "      <td>Diesel</td>\n",
       "      <td>Individual</td>\n",
       "      <td>Automatic</td>\n",
       "      <td>First Owner</td>\n",
       "      <td>1200000</td>\n",
       "    </tr>\n",
       "    <tr>\n",
       "      <th>2162</th>\n",
       "      <td>Hyundai i20 1.2 Sportz</td>\n",
       "      <td>2012</td>\n",
       "      <td>90000</td>\n",
       "      <td>Petrol</td>\n",
       "      <td>Individual</td>\n",
       "      <td>Manual</td>\n",
       "      <td>Third Owner</td>\n",
       "      <td>330000</td>\n",
       "    </tr>\n",
       "    <tr>\n",
       "      <th>2299</th>\n",
       "      <td>Toyota Camry Hybrid 2.5</td>\n",
       "      <td>2017</td>\n",
       "      <td>20118</td>\n",
       "      <td>Petrol</td>\n",
       "      <td>Dealer</td>\n",
       "      <td>Automatic</td>\n",
       "      <td>First Owner</td>\n",
       "      <td>1900000</td>\n",
       "    </tr>\n",
       "    <tr>\n",
       "      <th>107</th>\n",
       "      <td>Hyundai Sonata CRDi M/T</td>\n",
       "      <td>2010</td>\n",
       "      <td>100000</td>\n",
       "      <td>Diesel</td>\n",
       "      <td>Individual</td>\n",
       "      <td>Manual</td>\n",
       "      <td>First Owner</td>\n",
       "      <td>600000</td>\n",
       "    </tr>\n",
       "  </tbody>\n",
       "</table>\n",
       "</div>"
      ],
      "text/plain": [
       "                           name  year  km_driven    fuel seller_type  \\\n",
       "2949  Hyundai i10 Sportz 1.2 AT  2013      38000  Petrol      Dealer   \n",
       "852               Tata Hexa XTA  2017      50000  Diesel  Individual   \n",
       "2162     Hyundai i20 1.2 Sportz  2012      90000  Petrol  Individual   \n",
       "2299    Toyota Camry Hybrid 2.5  2017      20118  Petrol      Dealer   \n",
       "107     Hyundai Sonata CRDi M/T  2010     100000  Diesel  Individual   \n",
       "\n",
       "     transmission        owner  selling_price  \n",
       "2949    Automatic  First Owner         330000  \n",
       "852     Automatic  First Owner        1200000  \n",
       "2162       Manual  Third Owner         330000  \n",
       "2299    Automatic  First Owner        1900000  \n",
       "107        Manual  First Owner         600000  "
      ]
     },
     "execution_count": 7,
     "metadata": {},
     "output_type": "execute_result"
    }
   ],
   "source": [
    "# df.head()\n",
    "df.sample(5)"
   ]
  },
  {
   "cell_type": "markdown",
   "id": "ad76d76a",
   "metadata": {},
   "source": [
    "3. What is the data type of columns?"
   ]
  },
  {
   "cell_type": "code",
   "execution_count": 8,
   "id": "7e5085c8",
   "metadata": {},
   "outputs": [
    {
     "name": "stdout",
     "output_type": "stream",
     "text": [
      "<class 'pandas.core.frame.DataFrame'>\n",
      "RangeIndex: 4340 entries, 0 to 4339\n",
      "Data columns (total 8 columns):\n",
      " #   Column         Non-Null Count  Dtype \n",
      "---  ------         --------------  ----- \n",
      " 0   name           4340 non-null   object\n",
      " 1   year           4340 non-null   int64 \n",
      " 2   km_driven      4340 non-null   int64 \n",
      " 3   fuel           4340 non-null   object\n",
      " 4   seller_type    4340 non-null   object\n",
      " 5   transmission   4340 non-null   object\n",
      " 6   owner          4340 non-null   object\n",
      " 7   selling_price  4340 non-null   int64 \n",
      "dtypes: int64(3), object(5)\n",
      "memory usage: 271.4+ KB\n"
     ]
    }
   ],
   "source": [
    "df.info()"
   ]
  },
  {
   "cell_type": "markdown",
   "id": "2cff27d2",
   "metadata": {},
   "source": [
    "4. Are there missing values?"
   ]
  },
  {
   "cell_type": "code",
   "execution_count": 9,
   "id": "f8538e5f",
   "metadata": {},
   "outputs": [
    {
     "data": {
      "application/vnd.microsoft.datawrangler.viewer.v0+json": {
       "columns": [
        {
         "name": "index",
         "rawType": "object",
         "type": "string"
        },
        {
         "name": "0",
         "rawType": "int64",
         "type": "integer"
        }
       ],
       "ref": "094b3a91-6e08-4b66-a466-98beab1ecdc6",
       "rows": [
        [
         "name",
         "0"
        ],
        [
         "year",
         "0"
        ],
        [
         "km_driven",
         "0"
        ],
        [
         "fuel",
         "0"
        ],
        [
         "seller_type",
         "0"
        ],
        [
         "transmission",
         "0"
        ],
        [
         "owner",
         "0"
        ],
        [
         "selling_price",
         "0"
        ]
       ],
       "shape": {
        "columns": 1,
        "rows": 8
       }
      },
      "text/plain": [
       "name             0\n",
       "year             0\n",
       "km_driven        0\n",
       "fuel             0\n",
       "seller_type      0\n",
       "transmission     0\n",
       "owner            0\n",
       "selling_price    0\n",
       "dtype: int64"
      ]
     },
     "execution_count": 9,
     "metadata": {},
     "output_type": "execute_result"
    }
   ],
   "source": [
    "df.isnull().sum()"
   ]
  },
  {
   "cell_type": "markdown",
   "id": "36d3a63b",
   "metadata": {},
   "source": [
    "5. how does the data look mathematically?"
   ]
  },
  {
   "cell_type": "code",
   "execution_count": 10,
   "id": "a0ece32d",
   "metadata": {},
   "outputs": [
    {
     "data": {
      "application/vnd.microsoft.datawrangler.viewer.v0+json": {
       "columns": [
        {
         "name": "index",
         "rawType": "object",
         "type": "string"
        },
        {
         "name": "year",
         "rawType": "float64",
         "type": "float"
        },
        {
         "name": "km_driven",
         "rawType": "float64",
         "type": "float"
        },
        {
         "name": "selling_price",
         "rawType": "float64",
         "type": "float"
        }
       ],
       "ref": "a5212ccc-37b8-4d49-a154-13a82c9409fd",
       "rows": [
        [
         "count",
         "4340.0",
         "4340.0",
         "4340.0"
        ],
        [
         "mean",
         "2013.0907834101383",
         "66215.77741935484",
         "504127.3117511521"
        ],
        [
         "std",
         "4.215343939724197",
         "46644.102193620885",
         "578548.7361388865"
        ],
        [
         "min",
         "1992.0",
         "1.0",
         "20000.0"
        ],
        [
         "25%",
         "2011.0",
         "35000.0",
         "208749.75"
        ],
        [
         "50%",
         "2014.0",
         "60000.0",
         "350000.0"
        ],
        [
         "75%",
         "2016.0",
         "90000.0",
         "600000.0"
        ],
        [
         "max",
         "2020.0",
         "806599.0",
         "8900000.0"
        ]
       ],
       "shape": {
        "columns": 3,
        "rows": 8
       }
      },
      "text/html": [
       "<div>\n",
       "<style scoped>\n",
       "    .dataframe tbody tr th:only-of-type {\n",
       "        vertical-align: middle;\n",
       "    }\n",
       "\n",
       "    .dataframe tbody tr th {\n",
       "        vertical-align: top;\n",
       "    }\n",
       "\n",
       "    .dataframe thead th {\n",
       "        text-align: right;\n",
       "    }\n",
       "</style>\n",
       "<table border=\"1\" class=\"dataframe\">\n",
       "  <thead>\n",
       "    <tr style=\"text-align: right;\">\n",
       "      <th></th>\n",
       "      <th>year</th>\n",
       "      <th>km_driven</th>\n",
       "      <th>selling_price</th>\n",
       "    </tr>\n",
       "  </thead>\n",
       "  <tbody>\n",
       "    <tr>\n",
       "      <th>count</th>\n",
       "      <td>4340.000000</td>\n",
       "      <td>4340.000000</td>\n",
       "      <td>4.340000e+03</td>\n",
       "    </tr>\n",
       "    <tr>\n",
       "      <th>mean</th>\n",
       "      <td>2013.090783</td>\n",
       "      <td>66215.777419</td>\n",
       "      <td>5.041273e+05</td>\n",
       "    </tr>\n",
       "    <tr>\n",
       "      <th>std</th>\n",
       "      <td>4.215344</td>\n",
       "      <td>46644.102194</td>\n",
       "      <td>5.785487e+05</td>\n",
       "    </tr>\n",
       "    <tr>\n",
       "      <th>min</th>\n",
       "      <td>1992.000000</td>\n",
       "      <td>1.000000</td>\n",
       "      <td>2.000000e+04</td>\n",
       "    </tr>\n",
       "    <tr>\n",
       "      <th>25%</th>\n",
       "      <td>2011.000000</td>\n",
       "      <td>35000.000000</td>\n",
       "      <td>2.087498e+05</td>\n",
       "    </tr>\n",
       "    <tr>\n",
       "      <th>50%</th>\n",
       "      <td>2014.000000</td>\n",
       "      <td>60000.000000</td>\n",
       "      <td>3.500000e+05</td>\n",
       "    </tr>\n",
       "    <tr>\n",
       "      <th>75%</th>\n",
       "      <td>2016.000000</td>\n",
       "      <td>90000.000000</td>\n",
       "      <td>6.000000e+05</td>\n",
       "    </tr>\n",
       "    <tr>\n",
       "      <th>max</th>\n",
       "      <td>2020.000000</td>\n",
       "      <td>806599.000000</td>\n",
       "      <td>8.900000e+06</td>\n",
       "    </tr>\n",
       "  </tbody>\n",
       "</table>\n",
       "</div>"
      ],
      "text/plain": [
       "              year      km_driven  selling_price\n",
       "count  4340.000000    4340.000000   4.340000e+03\n",
       "mean   2013.090783   66215.777419   5.041273e+05\n",
       "std       4.215344   46644.102194   5.785487e+05\n",
       "min    1992.000000       1.000000   2.000000e+04\n",
       "25%    2011.000000   35000.000000   2.087498e+05\n",
       "50%    2014.000000   60000.000000   3.500000e+05\n",
       "75%    2016.000000   90000.000000   6.000000e+05\n",
       "max    2020.000000  806599.000000   8.900000e+06"
      ]
     },
     "execution_count": 10,
     "metadata": {},
     "output_type": "execute_result"
    }
   ],
   "source": [
    "df.describe()"
   ]
  },
  {
   "cell_type": "markdown",
   "id": "183e5748",
   "metadata": {},
   "source": [
    "6. Are there duplicate values?"
   ]
  },
  {
   "cell_type": "code",
   "execution_count": 19,
   "id": "30fc0972",
   "metadata": {},
   "outputs": [
    {
     "data": {
      "text/plain": [
       "np.int64(763)"
      ]
     },
     "execution_count": 19,
     "metadata": {},
     "output_type": "execute_result"
    }
   ],
   "source": [
    "df.duplicated().sum()"
   ]
  },
  {
   "cell_type": "markdown",
   "id": "f6bb276e",
   "metadata": {},
   "source": [
    "7. How is the correlation between columns?"
   ]
  },
  {
   "cell_type": "code",
   "execution_count": 26,
   "id": "6fc91e62",
   "metadata": {},
   "outputs": [
    {
     "data": {
      "application/vnd.microsoft.datawrangler.viewer.v0+json": {
       "columns": [
        {
         "name": "index",
         "rawType": "object",
         "type": "string"
        },
        {
         "name": "selling_price",
         "rawType": "float64",
         "type": "float"
        }
       ],
       "ref": "01638308-ee13-43f8-a7fa-24be52d296a3",
       "rows": [
        [
         "year",
         "0.4139216798108341"
        ],
        [
         "km_driven",
         "-0.19228863054511483"
        ],
        [
         "selling_price",
         "1.0"
        ]
       ],
       "shape": {
        "columns": 1,
        "rows": 3
       }
      },
      "text/plain": [
       "year             0.413922\n",
       "km_driven       -0.192289\n",
       "selling_price    1.000000\n",
       "Name: selling_price, dtype: float64"
      ]
     },
     "execution_count": 26,
     "metadata": {},
     "output_type": "execute_result"
    }
   ],
   "source": [
    "df.select_dtypes(include='number').corr()['selling_price']"
   ]
  }
 ],
 "metadata": {
  "kernelspec": {
   "display_name": "Python 3",
   "language": "python",
   "name": "python3"
  },
  "language_info": {
   "codemirror_mode": {
    "name": "ipython",
    "version": 3
   },
   "file_extension": ".py",
   "mimetype": "text/x-python",
   "name": "python",
   "nbconvert_exporter": "python",
   "pygments_lexer": "ipython3",
   "version": "3.12.4"
  }
 },
 "nbformat": 4,
 "nbformat_minor": 5
}
