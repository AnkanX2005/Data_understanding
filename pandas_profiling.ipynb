{
 "cells": [
  {
   "cell_type": "code",
   "execution_count": 3,
   "id": "20ea83d6",
   "metadata": {},
   "outputs": [],
   "source": [
    "import matplotlib"
   ]
  },
  {
   "cell_type": "code",
   "execution_count": 2,
   "id": "283018ce",
   "metadata": {},
   "outputs": [],
   "source": [
    "import pandas as pd"
   ]
  },
  {
   "cell_type": "code",
   "execution_count": 5,
   "id": "01ece9a1",
   "metadata": {},
   "outputs": [
    {
     "name": "stdout",
     "output_type": "stream",
     "text": [
      "Collecting ydata-profiling\n",
      "  Using cached ydata_profiling-4.16.1-py2.py3-none-any.whl.metadata (22 kB)\n",
      "Requirement already satisfied: scipy<1.16,>=1.4.1 in c:\\users\\ankan kumar sahoo\\appdata\\local\\programs\\python\\python312\\lib\\site-packages (from ydata-profiling) (1.15.2)\n",
      "Requirement already satisfied: pandas!=1.4.0,<3.0,>1.1 in c:\\users\\ankan kumar sahoo\\appdata\\local\\programs\\python\\python312\\lib\\site-packages (from ydata-profiling) (2.2.2)\n",
      "Collecting matplotlib<=3.10,>=3.5 (from ydata-profiling)\n",
      "  Using cached matplotlib-3.10.0-cp312-cp312-win_amd64.whl.metadata (11 kB)\n",
      "Requirement already satisfied: pydantic>=2 in c:\\users\\ankan kumar sahoo\\appdata\\local\\programs\\python\\python312\\lib\\site-packages (from ydata-profiling) (2.11.7)\n",
      "Requirement already satisfied: PyYAML<6.1,>=5.0.0 in c:\\users\\ankan kumar sahoo\\appdata\\local\\programs\\python\\python312\\lib\\site-packages (from ydata-profiling) (6.0.2)\n",
      "Requirement already satisfied: jinja2<3.2,>=2.11.1 in c:\\users\\ankan kumar sahoo\\appdata\\local\\programs\\python\\python312\\lib\\site-packages (from ydata-profiling) (3.1.4)\n",
      "Collecting visions<0.8.2,>=0.7.5 (from visions[type_image_path]<0.8.2,>=0.7.5->ydata-profiling)\n",
      "  Using cached visions-0.8.1-py3-none-any.whl.metadata (11 kB)\n",
      "Requirement already satisfied: numpy<2.2,>=1.16.0 in c:\\users\\ankan kumar sahoo\\appdata\\local\\programs\\python\\python312\\lib\\site-packages (from ydata-profiling) (2.0.0)\n",
      "Requirement already satisfied: htmlmin==0.1.12 in c:\\users\\ankan kumar sahoo\\appdata\\local\\programs\\python\\python312\\lib\\site-packages (from ydata-profiling) (0.1.12)\n",
      "Requirement already satisfied: phik<0.13,>=0.11.1 in c:\\users\\ankan kumar sahoo\\appdata\\local\\programs\\python\\python312\\lib\\site-packages (from ydata-profiling) (0.12.5)\n",
      "Requirement already satisfied: requests<3,>=2.24.0 in c:\\users\\ankan kumar sahoo\\appdata\\local\\programs\\python\\python312\\lib\\site-packages (from ydata-profiling) (2.32.3)\n",
      "Requirement already satisfied: tqdm<5,>=4.48.2 in c:\\users\\ankan kumar sahoo\\appdata\\local\\programs\\python\\python312\\lib\\site-packages (from ydata-profiling) (4.67.1)\n",
      "Requirement already satisfied: seaborn<0.14,>=0.10.1 in c:\\users\\ankan kumar sahoo\\appdata\\local\\programs\\python\\python312\\lib\\site-packages (from ydata-profiling) (0.13.2)\n",
      "Requirement already satisfied: multimethod<2,>=1.4 in c:\\users\\ankan kumar sahoo\\appdata\\local\\programs\\python\\python312\\lib\\site-packages (from ydata-profiling) (1.4)\n",
      "Requirement already satisfied: statsmodels<1,>=0.13.2 in c:\\users\\ankan kumar sahoo\\appdata\\roaming\\python\\python312\\site-packages (from ydata-profiling) (0.14.5)\n",
      "Requirement already satisfied: typeguard<5,>=3 in c:\\users\\ankan kumar sahoo\\appdata\\local\\programs\\python\\python312\\lib\\site-packages (from ydata-profiling) (4.4.4)\n",
      "Requirement already satisfied: imagehash==4.3.1 in c:\\users\\ankan kumar sahoo\\appdata\\roaming\\python\\python312\\site-packages (from ydata-profiling) (4.3.1)\n",
      "Requirement already satisfied: wordcloud>=1.9.3 in c:\\users\\ankan kumar sahoo\\appdata\\roaming\\python\\python312\\site-packages (from ydata-profiling) (1.9.4)\n",
      "Requirement already satisfied: dacite>=1.8 in c:\\users\\ankan kumar sahoo\\appdata\\local\\programs\\python\\python312\\lib\\site-packages (from ydata-profiling) (1.9.2)\n",
      "Requirement already satisfied: numba<=0.61,>=0.56.0 in c:\\users\\ankan kumar sahoo\\appdata\\local\\programs\\python\\python312\\lib\\site-packages (from ydata-profiling) (0.61.0)\n",
      "Requirement already satisfied: PyWavelets in c:\\users\\ankan kumar sahoo\\appdata\\local\\programs\\python\\python312\\lib\\site-packages (from imagehash==4.3.1->ydata-profiling) (1.9.0)\n",
      "Requirement already satisfied: pillow in c:\\users\\ankan kumar sahoo\\appdata\\local\\programs\\python\\python312\\lib\\site-packages (from imagehash==4.3.1->ydata-profiling) (10.4.0)\n",
      "Requirement already satisfied: MarkupSafe>=2.0 in c:\\users\\ankan kumar sahoo\\appdata\\local\\programs\\python\\python312\\lib\\site-packages (from jinja2<3.2,>=2.11.1->ydata-profiling) (2.1.5)\n",
      "Requirement already satisfied: contourpy>=1.0.1 in c:\\users\\ankan kumar sahoo\\appdata\\local\\programs\\python\\python312\\lib\\site-packages (from matplotlib<=3.10,>=3.5->ydata-profiling) (1.3.1)\n",
      "Requirement already satisfied: cycler>=0.10 in c:\\users\\ankan kumar sahoo\\appdata\\local\\programs\\python\\python312\\lib\\site-packages (from matplotlib<=3.10,>=3.5->ydata-profiling) (0.12.1)\n",
      "Requirement already satisfied: fonttools>=4.22.0 in c:\\users\\ankan kumar sahoo\\appdata\\local\\programs\\python\\python312\\lib\\site-packages (from matplotlib<=3.10,>=3.5->ydata-profiling) (4.57.0)\n",
      "Requirement already satisfied: kiwisolver>=1.3.1 in c:\\users\\ankan kumar sahoo\\appdata\\local\\programs\\python\\python312\\lib\\site-packages (from matplotlib<=3.10,>=3.5->ydata-profiling) (1.4.8)\n",
      "Requirement already satisfied: packaging>=20.0 in c:\\users\\ankan kumar sahoo\\appdata\\local\\programs\\python\\python312\\lib\\site-packages (from matplotlib<=3.10,>=3.5->ydata-profiling) (24.2)\n",
      "Requirement already satisfied: pyparsing>=2.3.1 in c:\\users\\ankan kumar sahoo\\appdata\\local\\programs\\python\\python312\\lib\\site-packages (from matplotlib<=3.10,>=3.5->ydata-profiling) (3.2.3)\n",
      "Requirement already satisfied: python-dateutil>=2.7 in c:\\users\\ankan kumar sahoo\\appdata\\local\\programs\\python\\python312\\lib\\site-packages (from matplotlib<=3.10,>=3.5->ydata-profiling) (2.9.0.post0)\n",
      "Requirement already satisfied: llvmlite<0.45,>=0.44.0dev0 in c:\\users\\ankan kumar sahoo\\appdata\\local\\programs\\python\\python312\\lib\\site-packages (from numba<=0.61,>=0.56.0->ydata-profiling) (0.44.0)\n",
      "Requirement already satisfied: pytz>=2020.1 in c:\\users\\ankan kumar sahoo\\appdata\\local\\programs\\python\\python312\\lib\\site-packages (from pandas!=1.4.0,<3.0,>1.1->ydata-profiling) (2024.1)\n",
      "Requirement already satisfied: tzdata>=2022.7 in c:\\users\\ankan kumar sahoo\\appdata\\local\\programs\\python\\python312\\lib\\site-packages (from pandas!=1.4.0,<3.0,>1.1->ydata-profiling) (2024.1)\n",
      "Requirement already satisfied: joblib>=0.14.1 in c:\\users\\ankan kumar sahoo\\appdata\\local\\programs\\python\\python312\\lib\\site-packages (from phik<0.13,>=0.11.1->ydata-profiling) (1.5.1)\n",
      "Requirement already satisfied: charset-normalizer<4,>=2 in c:\\users\\ankan kumar sahoo\\appdata\\local\\programs\\python\\python312\\lib\\site-packages (from requests<3,>=2.24.0->ydata-profiling) (3.3.2)\n",
      "Requirement already satisfied: idna<4,>=2.5 in c:\\users\\ankan kumar sahoo\\appdata\\local\\programs\\python\\python312\\lib\\site-packages (from requests<3,>=2.24.0->ydata-profiling) (3.7)\n",
      "Requirement already satisfied: urllib3<3,>=1.21.1 in c:\\users\\ankan kumar sahoo\\appdata\\local\\programs\\python\\python312\\lib\\site-packages (from requests<3,>=2.24.0->ydata-profiling) (2.2.2)\n",
      "Requirement already satisfied: certifi>=2017.4.17 in c:\\users\\ankan kumar sahoo\\appdata\\local\\programs\\python\\python312\\lib\\site-packages (from requests<3,>=2.24.0->ydata-profiling) (2024.7.4)\n",
      "Requirement already satisfied: patsy>=0.5.6 in c:\\users\\ankan kumar sahoo\\appdata\\local\\programs\\python\\python312\\lib\\site-packages (from statsmodels<1,>=0.13.2->ydata-profiling) (1.0.1)\n",
      "Requirement already satisfied: colorama in c:\\users\\ankan kumar sahoo\\appdata\\local\\programs\\python\\python312\\lib\\site-packages (from tqdm<5,>=4.48.2->ydata-profiling) (0.4.6)\n",
      "Requirement already satisfied: typing_extensions>=4.14.0 in c:\\users\\ankan kumar sahoo\\appdata\\local\\programs\\python\\python312\\lib\\site-packages (from typeguard<5,>=3->ydata-profiling) (4.14.1)\n",
      "Requirement already satisfied: attrs>=19.3.0 in c:\\users\\ankan kumar sahoo\\appdata\\local\\programs\\python\\python312\\lib\\site-packages (from visions<0.8.2,>=0.7.5->visions[type_image_path]<0.8.2,>=0.7.5->ydata-profiling) (25.3.0)\n",
      "Requirement already satisfied: networkx>=2.4 in c:\\users\\ankan kumar sahoo\\appdata\\local\\programs\\python\\python312\\lib\\site-packages (from visions<0.8.2,>=0.7.5->visions[type_image_path]<0.8.2,>=0.7.5->ydata-profiling) (3.5)\n",
      "Requirement already satisfied: puremagic in c:\\users\\ankan kumar sahoo\\appdata\\local\\programs\\python\\python312\\lib\\site-packages (from visions<0.8.2,>=0.7.5->visions[type_image_path]<0.8.2,>=0.7.5->ydata-profiling) (1.30)\n",
      "Requirement already satisfied: annotated-types>=0.6.0 in c:\\users\\ankan kumar sahoo\\appdata\\local\\programs\\python\\python312\\lib\\site-packages (from pydantic>=2->ydata-profiling) (0.7.0)\n",
      "Requirement already satisfied: pydantic-core==2.33.2 in c:\\users\\ankan kumar sahoo\\appdata\\local\\programs\\python\\python312\\lib\\site-packages (from pydantic>=2->ydata-profiling) (2.33.2)\n",
      "Requirement already satisfied: typing-inspection>=0.4.0 in c:\\users\\ankan kumar sahoo\\appdata\\local\\programs\\python\\python312\\lib\\site-packages (from pydantic>=2->ydata-profiling) (0.4.1)\n",
      "Requirement already satisfied: six>=1.5 in c:\\users\\ankan kumar sahoo\\appdata\\local\\programs\\python\\python312\\lib\\site-packages (from python-dateutil>=2.7->matplotlib<=3.10,>=3.5->ydata-profiling) (1.16.0)\n",
      "Using cached ydata_profiling-4.16.1-py2.py3-none-any.whl (400 kB)\n",
      "Using cached matplotlib-3.10.0-cp312-cp312-win_amd64.whl (8.0 MB)\n",
      "Using cached visions-0.8.1-py3-none-any.whl (105 kB)\n",
      "Installing collected packages: matplotlib, visions, ydata-profiling\n",
      "\n",
      "  Attempting uninstall: matplotlib\n",
      "\n",
      "    Found existing installation: matplotlib 3.10.5\n",
      "\n",
      "    Uninstalling matplotlib-3.10.5:\n",
      "\n",
      "   ---------------------------------------- 0/3 [matplotlib]\n",
      "   ---------------------------------------- 0/3 [matplotlib]\n",
      "   ---------------------------------------- 0/3 [matplotlib]\n",
      "   ---------------------------------------- 0/3 [matplotlib]\n",
      "   ---------------------------------------- 0/3 [matplotlib]\n",
      "   ---------------------------------------- 0/3 [matplotlib]\n",
      "      Successfully uninstalled matplotlib-3.10.5\n",
      "   ---------------------------------------- 0/3 [matplotlib]\n",
      "   ---------------------------------------- 0/3 [matplotlib]\n",
      "   ---------------------------------------- 0/3 [matplotlib]\n",
      "   ---------------------------------------- 0/3 [matplotlib]\n",
      "   ---------------------------------------- 0/3 [matplotlib]\n",
      "   ---------------------------------------- 0/3 [matplotlib]\n",
      "   ---------------------------------------- 0/3 [matplotlib]\n",
      "   ---------------------------------------- 0/3 [matplotlib]\n",
      "   ---------------------------------------- 0/3 [matplotlib]\n",
      "   ---------------------------------------- 0/3 [matplotlib]\n",
      "   ---------------------------------------- 0/3 [matplotlib]\n",
      "   ---------------------------------------- 0/3 [matplotlib]\n",
      "   ---------------------------------------- 0/3 [matplotlib]\n",
      "   ---------------------------------------- 0/3 [matplotlib]\n",
      "   ---------------------------------------- 0/3 [matplotlib]\n",
      "   ---------------------------------------- 0/3 [matplotlib]\n",
      "   ---------------------------------------- 0/3 [matplotlib]\n",
      "   ---------------------------------------- 0/3 [matplotlib]\n",
      "   ---------------------------------------- 0/3 [matplotlib]\n",
      "   ---------------------------------------- 0/3 [matplotlib]\n",
      "   ---------------------------------------- 0/3 [matplotlib]\n",
      "   ---------------------------------------- 0/3 [matplotlib]\n",
      "   ---------------------------------------- 0/3 [matplotlib]\n",
      "   ---------------------------------------- 0/3 [matplotlib]\n",
      "   ---------------------------------------- 0/3 [matplotlib]\n",
      "   ---------------------------------------- 0/3 [matplotlib]\n",
      "   ---------------------------------------- 0/3 [matplotlib]\n",
      "   ---------------------------------------- 0/3 [matplotlib]\n",
      "   ---------------------------------------- 0/3 [matplotlib]\n",
      "   ---------------------------------------- 0/3 [matplotlib]\n",
      "   ---------------------------------------- 0/3 [matplotlib]\n",
      "   ---------------------------------------- 0/3 [matplotlib]\n",
      "   ---------------------------------------- 0/3 [matplotlib]\n",
      "   ---------------------------------------- 0/3 [matplotlib]\n",
      "   ---------------------------------------- 0/3 [matplotlib]\n",
      "   ---------------------------------------- 0/3 [matplotlib]\n",
      "   ---------------------------------------- 0/3 [matplotlib]\n",
      "   ---------------------------------------- 0/3 [matplotlib]\n",
      "   ---------------------------------------- 0/3 [matplotlib]\n",
      "   ---------------------------------------- 0/3 [matplotlib]\n",
      "   ---------------------------------------- 0/3 [matplotlib]\n",
      "   ---------------------------------------- 0/3 [matplotlib]\n",
      "   ---------------------------------------- 0/3 [matplotlib]\n",
      "   ---------------------------------------- 0/3 [matplotlib]\n",
      "   ---------------------------------------- 0/3 [matplotlib]\n",
      "   ---------------------------------------- 0/3 [matplotlib]\n",
      "   ---------------------------------------- 0/3 [matplotlib]\n",
      "   ---------------------------------------- 0/3 [matplotlib]\n",
      "   ---------------------------------------- 0/3 [matplotlib]\n",
      "   ---------------------------------------- 0/3 [matplotlib]\n",
      "   ---------------------------------------- 0/3 [matplotlib]\n",
      "   ---------------------------------------- 0/3 [matplotlib]\n",
      "   ---------------------------------------- 0/3 [matplotlib]\n",
      "   ---------------------------------------- 0/3 [matplotlib]\n",
      "   ---------------------------------------- 0/3 [matplotlib]\n",
      "   ---------------------------------------- 0/3 [matplotlib]\n",
      "  Attempting uninstall: visions\n",
      "   ---------------------------------------- 0/3 [matplotlib]\n",
      "    Found existing installation: visions 0.7.1\n",
      "   ---------------------------------------- 0/3 [matplotlib]\n",
      "    Uninstalling visions-0.7.1:\n",
      "   ---------------------------------------- 0/3 [matplotlib]\n",
      "   ------------- -------------------------- 1/3 [visions]\n",
      "      Successfully uninstalled visions-0.7.1\n",
      "   ------------- -------------------------- 1/3 [visions]\n",
      "   ------------- -------------------------- 1/3 [visions]\n",
      "   ------------- -------------------------- 1/3 [visions]\n",
      "   ------------- -------------------------- 1/3 [visions]\n",
      "   ------------- -------------------------- 1/3 [visions]\n",
      "   ------------- -------------------------- 1/3 [visions]\n",
      "   ------------- -------------------------- 1/3 [visions]\n",
      "   -------------------------- ------------- 2/3 [ydata-profiling]\n",
      "   -------------------------- ------------- 2/3 [ydata-profiling]\n",
      "   -------------------------- ------------- 2/3 [ydata-profiling]\n",
      "   -------------------------- ------------- 2/3 [ydata-profiling]\n",
      "   -------------------------- ------------- 2/3 [ydata-profiling]\n",
      "   -------------------------- ------------- 2/3 [ydata-profiling]\n",
      "   -------------------------- ------------- 2/3 [ydata-profiling]\n",
      "   -------------------------- ------------- 2/3 [ydata-profiling]\n",
      "   -------------------------- ------------- 2/3 [ydata-profiling]\n",
      "   -------------------------- ------------- 2/3 [ydata-profiling]\n",
      "   -------------------------- ------------- 2/3 [ydata-profiling]\n",
      "   -------------------------- ------------- 2/3 [ydata-profiling]\n",
      "   ---------------------------------------- 3/3 [ydata-profiling]\n",
      "\n",
      "Successfully installed matplotlib-3.10.0 visions-0.7.4 ydata-profiling-4.16.1\n"
     ]
    },
    {
     "name": "stderr",
     "output_type": "stream",
     "text": [
      "WARNING: Ignoring invalid distribution ~atplotlib (C:\\Users\\ANKAN KUMAR SAHOO\\AppData\\Local\\Programs\\Python\\Python312\\Lib\\site-packages)\n",
      "WARNING: Ignoring invalid distribution ~atplotlib (C:\\Users\\ANKAN KUMAR SAHOO\\AppData\\Local\\Programs\\Python\\Python312\\Lib\\site-packages)\n",
      "  WARNING: Failed to remove contents in a temporary directory 'C:\\Users\\ANKAN KUMAR SAHOO\\AppData\\Local\\Programs\\Python\\Python312\\Lib\\site-packages\\~-tplotlib'.\n",
      "  You can safely remove it manually.\n",
      "WARNING: Ignoring invalid distribution ~atplotlib (C:\\Users\\ANKAN KUMAR SAHOO\\AppData\\Local\\Programs\\Python\\Python312\\Lib\\site-packages)\n"
     ]
    }
   ],
   "source": [
    "! pip install ydata-profiling"
   ]
  },
  {
   "cell_type": "code",
   "execution_count": 6,
   "id": "2f141ade",
   "metadata": {},
   "outputs": [
    {
     "data": {
      "text/html": [
       "\n",
       "            <div>\n",
       "                <ins><a href=\"https://ydata.ai/register\">Upgrade to ydata-sdk</a></ins>\n",
       "                <p>\n",
       "                    Improve your data and profiling with ydata-sdk, featuring data quality scoring, redundancy detection, outlier identification, text validation, and synthetic data generation.\n",
       "                </p>\n",
       "            </div>\n",
       "            "
      ],
      "text/plain": [
       "<IPython.core.display.HTML object>"
      ]
     },
     "metadata": {},
     "output_type": "display_data"
    }
   ],
   "source": [
    "from ydata_profiling import ProfileReport"
   ]
  },
  {
   "cell_type": "code",
   "execution_count": 8,
   "id": "a4175857",
   "metadata": {},
   "outputs": [],
   "source": [
    "df = pd.read_csv(\"D:\\\\ML-DataSets\\\\tested.csv\")"
   ]
  },
  {
   "cell_type": "code",
   "execution_count": 9,
   "id": "8eaa05ba",
   "metadata": {},
   "outputs": [],
   "source": [
    "prof = ProfileReport(df, title=\"Pandas Profiling Report\", explorative=True)"
   ]
  },
  {
   "cell_type": "code",
   "execution_count": 10,
   "id": "6c8ab4e9",
   "metadata": {},
   "outputs": [
    {
     "data": {
      "application/vnd.jupyter.widget-view+json": {
       "model_id": "bc7fd98d1ff3488ba25f00e839ce4d2b",
       "version_major": 2,
       "version_minor": 0
      },
      "text/plain": [
       "Summarize dataset:   0%|          | 0/5 [00:00<?, ?it/s]"
      ]
     },
     "metadata": {},
     "output_type": "display_data"
    },
    {
     "name": "stderr",
     "output_type": "stream",
     "text": [
      "100%|██████████| 12/12 [00:02<00:00,  4.95it/s]\n"
     ]
    },
    {
     "data": {
      "application/vnd.jupyter.widget-view+json": {
       "model_id": "3525c736864447ef848b9a5c57488019",
       "version_major": 2,
       "version_minor": 0
      },
      "text/plain": [
       "Generate report structure:   0%|          | 0/1 [00:00<?, ?it/s]"
      ]
     },
     "metadata": {},
     "output_type": "display_data"
    },
    {
     "data": {
      "application/vnd.jupyter.widget-view+json": {
       "model_id": "d52d054954ce459480f5dd1ce4e02cfd",
       "version_major": 2,
       "version_minor": 0
      },
      "text/plain": [
       "Render HTML:   0%|          | 0/1 [00:00<?, ?it/s]"
      ]
     },
     "metadata": {},
     "output_type": "display_data"
    },
    {
     "data": {
      "application/vnd.jupyter.widget-view+json": {
       "model_id": "76bf1dd97b184f66a7e939c5f8fedb47",
       "version_major": 2,
       "version_minor": 0
      },
      "text/plain": [
       "Export report to file:   0%|          | 0/1 [00:00<?, ?it/s]"
      ]
     },
     "metadata": {},
     "output_type": "display_data"
    }
   ],
   "source": [
    "prof.to_file('output.html')"
   ]
  }
 ],
 "metadata": {
  "kernelspec": {
   "display_name": "Python 3",
   "language": "python",
   "name": "python3"
  },
  "language_info": {
   "codemirror_mode": {
    "name": "ipython",
    "version": 3
   },
   "file_extension": ".py",
   "mimetype": "text/x-python",
   "name": "python",
   "nbconvert_exporter": "python",
   "pygments_lexer": "ipython3",
   "version": "3.12.4"
  }
 },
 "nbformat": 4,
 "nbformat_minor": 5
}
